{
 "cells": [
  {
   "cell_type": "code",
   "execution_count": 1,
   "id": "initial_id",
   "metadata": {
    "collapsed": true,
    "ExecuteTime": {
     "end_time": "2023-12-07T13:46:03.281128971Z",
     "start_time": "2023-12-07T13:46:03.280533807Z"
    }
   },
   "outputs": [],
   "source": [
    "import os"
   ]
  },
  {
   "cell_type": "code",
   "execution_count": 3,
   "outputs": [
    {
     "data": {
      "text/plain": "'/home/lucky/Documents/data_science_interview/Udemy/Chicken-Disease-Classification/research'"
     },
     "execution_count": 3,
     "metadata": {},
     "output_type": "execute_result"
    }
   ],
   "source": [
    "%pwd"
   ],
   "metadata": {
    "collapsed": false,
    "ExecuteTime": {
     "end_time": "2023-12-07T13:46:10.746263642Z",
     "start_time": "2023-12-07T13:46:10.737624771Z"
    }
   },
   "id": "7c3a2557332e8c23"
  },
  {
   "cell_type": "code",
   "execution_count": 4,
   "outputs": [],
   "source": [
    "os.chdir(\"../\")"
   ],
   "metadata": {
    "collapsed": false,
    "ExecuteTime": {
     "end_time": "2023-12-07T13:46:25.449875084Z",
     "start_time": "2023-12-07T13:46:25.443698002Z"
    }
   },
   "id": "49d65b018789096c"
  },
  {
   "cell_type": "code",
   "execution_count": 5,
   "outputs": [
    {
     "data": {
      "text/plain": "'/home/lucky/Documents/data_science_interview/Udemy/Chicken-Disease-Classification'"
     },
     "execution_count": 5,
     "metadata": {},
     "output_type": "execute_result"
    }
   ],
   "source": [
    "pwd"
   ],
   "metadata": {
    "collapsed": false,
    "ExecuteTime": {
     "end_time": "2023-12-07T13:46:32.443864133Z",
     "start_time": "2023-12-07T13:46:32.428652325Z"
    }
   },
   "id": "325d1197820eaeb0"
  },
  {
   "cell_type": "markdown",
   "source": [],
   "metadata": {
    "collapsed": false
   },
   "id": "8ed30ff770b09f15"
  },
  {
   "cell_type": "code",
   "execution_count": 20,
   "outputs": [],
   "source": [
    "from dataclasses import dataclass\n",
    "from pathlib import Path\n",
    "\n",
    "@dataclass(frozen=True)\n",
    "class DataIngestionConfig:\n",
    "    root_dir: Path\n",
    "    source_URL: str\n",
    "    local_data_file: Path\n",
    "    unzip_dir: Path"
   ],
   "metadata": {
    "collapsed": false,
    "ExecuteTime": {
     "end_time": "2023-12-07T14:16:41.834074186Z",
     "start_time": "2023-12-07T14:16:41.790820195Z"
    }
   },
   "id": "9636e4afafb3b069"
  },
  {
   "cell_type": "markdown",
   "source": [
    "# Data Ingestion Configuration Manager"
   ],
   "metadata": {
    "collapsed": false
   },
   "id": "3c9e6bbcc3375420"
  },
  {
   "cell_type": "code",
   "execution_count": 21,
   "outputs": [],
   "source": [
    "from cnnClassifier.constants import *\n",
    "from cnnClassifier.utils.common import read_yaml, create_directories"
   ],
   "metadata": {
    "collapsed": false,
    "ExecuteTime": {
     "end_time": "2023-12-07T14:16:44.734736230Z",
     "start_time": "2023-12-07T14:16:44.727038746Z"
    }
   },
   "id": "9f59d35e6f37cb4f"
  },
  {
   "cell_type": "code",
   "execution_count": 22,
   "outputs": [
    {
     "data": {
      "text/plain": "(PosixPath('config/config.yaml'), PosixPath('params.yaml'))"
     },
     "execution_count": 22,
     "metadata": {},
     "output_type": "execute_result"
    }
   ],
   "source": [
    "CONFIG_FILE_PATH, PARAMS_FILE_PATH"
   ],
   "metadata": {
    "collapsed": false,
    "ExecuteTime": {
     "end_time": "2023-12-07T14:16:46.820675903Z",
     "start_time": "2023-12-07T14:16:46.813268114Z"
    }
   },
   "id": "5bc09500e1efcf42"
  },
  {
   "cell_type": "code",
   "execution_count": 14,
   "outputs": [
    {
     "name": "stdout",
     "output_type": "stream",
     "text": [
      "[2023-12-07 19:22:48,521: INFO: common: yaml file: config/config.yaml loaded successfully]\n"
     ]
    }
   ],
   "source": [
    "cnf = read_yaml(CONFIG_FILE_PATH)"
   ],
   "metadata": {
    "collapsed": false,
    "ExecuteTime": {
     "end_time": "2023-12-07T13:52:48.532264515Z",
     "start_time": "2023-12-07T13:52:48.521627168Z"
    }
   },
   "id": "6d6e2125b95b8c49"
  },
  {
   "cell_type": "code",
   "execution_count": 18,
   "outputs": [
    {
     "data": {
      "text/plain": "ConfigBox({'root_dir': 'artifacts/data_ingestion', 'source_URL': 'https://github.com/luckyIITR/datarepo/raw/main/Chicken-fecal-images.zip', 'local_data_file': 'artifacts/data_ingestion/data.zip', 'unzip_dir': 'artifacts/data_ingestion'})"
     },
     "execution_count": 18,
     "metadata": {},
     "output_type": "execute_result"
    }
   ],
   "source": [
    "cnf.data_ingestion"
   ],
   "metadata": {
    "collapsed": false,
    "ExecuteTime": {
     "end_time": "2023-12-07T13:54:31.812002942Z",
     "start_time": "2023-12-07T13:54:31.802550272Z"
    }
   },
   "id": "a84db164e01b2bff"
  },
  {
   "cell_type": "code",
   "execution_count": 23,
   "outputs": [],
   "source": [
    "class ConfigurationManager:\n",
    "    \"\"\"\n",
    "        responsible for creating the Directories needed for data\n",
    "        and return entity -> DataIngestionConfig\n",
    "    \"\"\"\n",
    "    def __init__(\n",
    "        self,\n",
    "        config_filepath = CONFIG_FILE_PATH,\n",
    "        params_filepath = PARAMS_FILE_PATH):\n",
    "\n",
    "        self.config = read_yaml(config_filepath)\n",
    "        self.params = read_yaml(params_filepath)\n",
    "\n",
    "        create_directories([self.config.artifacts_root])\n",
    "\n",
    "\n",
    "    \n",
    "    def get_data_ingestion_config(self) -> DataIngestionConfig:\n",
    "        config = self.config.data_ingestion\n",
    "\n",
    "        create_directories([config.root_dir])\n",
    "\n",
    "        data_ingestion_config = DataIngestionConfig(\n",
    "            root_dir=config.root_dir,\n",
    "            source_URL=config.source_URL,\n",
    "            local_data_file=config.local_data_file,\n",
    "            unzip_dir=config.unzip_dir \n",
    "        )\n",
    "\n",
    "        return data_ingestion_config"
   ],
   "metadata": {
    "collapsed": false,
    "ExecuteTime": {
     "end_time": "2023-12-07T14:16:52.445123598Z",
     "start_time": "2023-12-07T14:16:52.436891090Z"
    }
   },
   "id": "9a962adfd454caf8"
  },
  {
   "cell_type": "markdown",
   "source": [
    "# Data Ingestion Class"
   ],
   "metadata": {
    "collapsed": false
   },
   "id": "4c04b1670b5227fc"
  },
  {
   "cell_type": "code",
   "execution_count": 24,
   "outputs": [],
   "source": [
    "import os\n",
    "import urllib.request as request\n",
    "import ssl\n",
    "import zipfile\n",
    "from cnnClassifier import logger\n",
    "from cnnClassifier.utils.common import get_size"
   ],
   "metadata": {
    "collapsed": false,
    "ExecuteTime": {
     "end_time": "2023-12-07T14:16:55.275702131Z",
     "start_time": "2023-12-07T14:16:55.268526809Z"
    }
   },
   "id": "33c4b7b4f63ec253"
  },
  {
   "cell_type": "code",
   "execution_count": 25,
   "outputs": [],
   "source": [
    "class DataIngestion:\n",
    "    def __init__(self, config: DataIngestionConfig):\n",
    "        self.config = config\n",
    "\n",
    "    \n",
    "    def download_file(self):\n",
    "        # Create an unverified SSL context\n",
    "        ssl._create_default_https_context = ssl._create_unverified_context\n",
    "        \n",
    "        if not os.path.exists(self.config.local_data_file):\n",
    "            filename, headers = request.urlretrieve(\n",
    "                url = self.config.source_URL,\n",
    "                filename = self.config.local_data_file\n",
    "            )\n",
    "            logger.info(f\"{filename} download! with following info: \\n{headers}\")\n",
    "        else:\n",
    "            logger.info(f\"File already exists of size: {get_size(Path(self.config.local_data_file))}\")  \n",
    "\n",
    "\n",
    "    def extract_zip_file(self):\n",
    "        \"\"\"\n",
    "        zip_file_path: str\n",
    "        Extracts the zip file into the data directory\n",
    "        Function returns None\n",
    "        \"\"\"\n",
    "        unzip_path = self.config.unzip_dir\n",
    "        os.makedirs(unzip_path, exist_ok=True)\n",
    "        with zipfile.ZipFile(self.config.local_data_file, 'r') as zip_ref:\n",
    "            zip_ref.extractall(unzip_path)"
   ],
   "metadata": {
    "collapsed": false,
    "ExecuteTime": {
     "end_time": "2023-12-07T14:16:55.797246579Z",
     "start_time": "2023-12-07T14:16:55.786044116Z"
    }
   },
   "id": "650fdd8e8da9af0"
  },
  {
   "cell_type": "code",
   "execution_count": 30,
   "outputs": [
    {
     "name": "stdout",
     "output_type": "stream",
     "text": [
      "[2023-12-07 19:54:04,995: INFO: common: yaml file: config/config.yaml loaded successfully]\n",
      "[2023-12-07 19:54:04,997: INFO: common: yaml file: params.yaml loaded successfully]\n",
      "[2023-12-07 19:54:04,998: INFO: common: created directory at: artifacts]\n",
      "[2023-12-07 19:54:04,999: INFO: common: created directory at: artifacts/data_ingestion]\n",
      "[2023-12-07 19:54:08,824: INFO: 2944401693: artifacts/data_ingestion/data.zip download! with following info: \n",
      "Date: Thu, 07 Dec 2023 14:24:07 GMT\n",
      "Content-Type: application/zip\n",
      "Content-Length: 11616915\n",
      "Connection: close\n",
      "Cache-Control: max-age=300\n",
      "Content-Security-Policy: default-src *.opendns.com gateway.id.swg.umbrella.com 'none'; style-src *.opendns.com gateway.id.swg.umbrella.com 'unsafe-inline'; sandbox;\n",
      "ETag: \"adf745abc03891fe493c3be264ec012691fe3fa21d861f35a27edbe6d86a76b1\"\n",
      "Strict-Transport-Security: max-age=31536000\n",
      "X-Content-Type-Options: nosniff\n",
      "X-Frame-Options: deny\n",
      "X-XSS-Protection: 1; mode=block\n",
      "X-GitHub-Request-Id: BC64:181AD0:123A8F:16C524:6571D536\n",
      "Accept-Ranges: bytes\n",
      "Via: 1.1 varnish\n",
      "X-Served-By: cache-qpg1275-QPG\n",
      "X-Cache: HIT\n",
      "X-Cache-Hits: 0\n",
      "X-Timer: S1701959047.100957,VS0,VE1\n",
      "Vary: Authorization,Accept-Encoding,Origin\n",
      "Access-Control-Allow-Origin: *\n",
      "Cross-Origin-Resource-Policy: cross-origin\n",
      "X-Fastly-Request-ID: b0dc5dbdef1b9744cff56faaec5f9d4507c2a979\n",
      "Expires: Thu, 07 Dec 2023 14:29:07 GMT\n",
      "Source-Age: 79\n",
      "Via: HTTP/1.1 a_proxy_sin\n",
      "\n",
      "]\n"
     ]
    }
   ],
   "source": [
    "try:\n",
    "    config = ConfigurationManager()\n",
    "    data_ingestion_config = config.get_data_ingestion_config()\n",
    "    data_ingestion = DataIngestion(config=data_ingestion_config)\n",
    "    data_ingestion.download_file()\n",
    "    data_ingestion.extract_zip_file()\n",
    "except Exception as e:\n",
    "    raise e"
   ],
   "metadata": {
    "collapsed": false,
    "ExecuteTime": {
     "end_time": "2023-12-07T14:24:08.941736085Z",
     "start_time": "2023-12-07T14:24:04.994881635Z"
    }
   },
   "id": "46640fd8f495bd33"
  }
 ],
 "metadata": {
  "kernelspec": {
   "display_name": "Python 3",
   "language": "python",
   "name": "python3"
  },
  "language_info": {
   "codemirror_mode": {
    "name": "ipython",
    "version": 2
   },
   "file_extension": ".py",
   "mimetype": "text/x-python",
   "name": "python",
   "nbconvert_exporter": "python",
   "pygments_lexer": "ipython2",
   "version": "2.7.6"
  }
 },
 "nbformat": 4,
 "nbformat_minor": 5
}
