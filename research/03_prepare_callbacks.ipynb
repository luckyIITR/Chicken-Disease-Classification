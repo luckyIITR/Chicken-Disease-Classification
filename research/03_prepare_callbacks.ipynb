{
 "cells": [
  {
   "cell_type": "code",
   "execution_count": 1,
   "id": "initial_id",
   "metadata": {
    "collapsed": true,
    "ExecuteTime": {
     "end_time": "2023-12-08T04:22:21.043063939Z",
     "start_time": "2023-12-08T04:22:21.028896197Z"
    }
   },
   "outputs": [],
   "source": [
    "import os"
   ]
  },
  {
   "cell_type": "code",
   "execution_count": 2,
   "outputs": [
    {
     "data": {
      "text/plain": "'/home/lucky/Documents/data_science_interview/Udemy/Chicken-Disease-Classification/research'"
     },
     "execution_count": 2,
     "metadata": {},
     "output_type": "execute_result"
    }
   ],
   "source": [
    "pwd"
   ],
   "metadata": {
    "collapsed": false,
    "ExecuteTime": {
     "end_time": "2023-12-08T04:22:25.101418783Z",
     "start_time": "2023-12-08T04:22:25.076487156Z"
    }
   },
   "id": "b129cc83467c933e"
  },
  {
   "cell_type": "code",
   "execution_count": 3,
   "outputs": [],
   "source": [
    "os.chdir(\"../\")"
   ],
   "metadata": {
    "collapsed": false,
    "ExecuteTime": {
     "end_time": "2023-12-08T04:22:32.914035863Z",
     "start_time": "2023-12-08T04:22:32.893095546Z"
    }
   },
   "id": "1e06557d8035f4af"
  },
  {
   "cell_type": "code",
   "execution_count": 4,
   "outputs": [
    {
     "data": {
      "text/plain": "'/home/lucky/Documents/data_science_interview/Udemy/Chicken-Disease-Classification'"
     },
     "execution_count": 4,
     "metadata": {},
     "output_type": "execute_result"
    }
   ],
   "source": [
    "pwd"
   ],
   "metadata": {
    "collapsed": false,
    "ExecuteTime": {
     "end_time": "2023-12-08T04:22:34.986889506Z",
     "start_time": "2023-12-08T04:22:34.961602106Z"
    }
   },
   "id": "81ebdbf46fbfe8ac"
  },
  {
   "cell_type": "markdown",
   "source": [
    "# Entity"
   ],
   "metadata": {
    "collapsed": false
   },
   "id": "dff14bbef517e0d0"
  },
  {
   "cell_type": "code",
   "execution_count": 5,
   "outputs": [],
   "source": [
    "from dataclasses import dataclass\n",
    "from pathlib import Path\n",
    "\n",
    "\n",
    "@dataclass(frozen=True)\n",
    "class PrepareCallbacksConfig:\n",
    "    root_dir: Path\n",
    "    tensorboard_root_log_dir: Path\n",
    "    checkpoint_model_filepath: Path"
   ],
   "metadata": {
    "collapsed": false,
    "ExecuteTime": {
     "end_time": "2023-12-08T04:23:27.627476009Z",
     "start_time": "2023-12-08T04:23:27.606041125Z"
    }
   },
   "id": "b07c7721609dd5ca"
  },
  {
   "cell_type": "markdown",
   "source": [
    "# Config Manager"
   ],
   "metadata": {
    "collapsed": false
   },
   "id": "bff99e0463a57cb5"
  },
  {
   "cell_type": "code",
   "execution_count": 6,
   "outputs": [],
   "source": [
    "from cnnClassifier.constants import *\n",
    "from cnnClassifier.utils.common import read_yaml, create_directories"
   ],
   "metadata": {
    "collapsed": false,
    "ExecuteTime": {
     "end_time": "2023-12-08T04:23:47.847353285Z",
     "start_time": "2023-12-08T04:23:47.590598656Z"
    }
   },
   "id": "f0f530b55211fe9b"
  },
  {
   "cell_type": "code",
   "execution_count": 8,
   "outputs": [],
   "source": [
    "class ConfigurationManager:\n",
    "    def __init__(\n",
    "        self, \n",
    "        config_filepath = CONFIG_FILE_PATH,\n",
    "        params_filepath = PARAMS_FILE_PATH):\n",
    "        self.config = read_yaml(config_filepath)\n",
    "        self.params = read_yaml(params_filepath)\n",
    "        create_directories([self.config.artifacts_root])\n",
    "\n",
    "\n",
    "    \n",
    "    def get_prepare_callback_config(self) -> PrepareCallbacksConfig:\n",
    "        config = self.config.prepare_callbacks\n",
    "        model_ckpt_dir = os.path.dirname(config.checkpoint_model_filepath)\n",
    "        create_directories([\n",
    "            Path(model_ckpt_dir),\n",
    "            Path(config.tensorboard_root_log_dir)\n",
    "        ])\n",
    "\n",
    "        prepare_callback_config = PrepareCallbacksConfig(\n",
    "            root_dir=Path(config.root_dir),\n",
    "            tensorboard_root_log_dir=Path(config.tensorboard_root_log_dir),\n",
    "            checkpoint_model_filepath=Path(config.checkpoint_model_filepath)\n",
    "        )\n",
    "\n",
    "        return prepare_callback_config"
   ],
   "metadata": {
    "collapsed": false,
    "ExecuteTime": {
     "end_time": "2023-12-08T04:25:48.825330392Z",
     "start_time": "2023-12-08T04:25:48.816347122Z"
    }
   },
   "id": "3630c1d527fb26c0"
  },
  {
   "cell_type": "markdown",
   "source": [
    "# Component"
   ],
   "metadata": {
    "collapsed": false
   },
   "id": "cacbec051f9afe6"
  },
  {
   "cell_type": "code",
   "execution_count": 10,
   "outputs": [],
   "source": [
    "import os\n",
    "import tensorflow as tf\n",
    "import time"
   ],
   "metadata": {
    "collapsed": false,
    "ExecuteTime": {
     "end_time": "2023-12-08T04:26:11.234396680Z",
     "start_time": "2023-12-08T04:26:11.230076501Z"
    }
   },
   "id": "d1998120ed3b24b6"
  },
  {
   "cell_type": "code",
   "execution_count": 12,
   "outputs": [],
   "source": [
    "class PrepareCallback:\n",
    "    def __init__(self, config: PrepareCallbacksConfig):\n",
    "        self.config = config\n",
    "\n",
    "    @property\n",
    "    def _create_tb_callbacks(self):\n",
    "        timestamp = time.strftime(\"%Y-%m-%d-%H-%M-%S\")\n",
    "        tb_running_log_dir = os.path.join(\n",
    "            self.config.tensorboard_root_log_dir,\n",
    "            f\"tb_logs_at_{timestamp}\",\n",
    "        )\n",
    "        return tf.keras.callbacks.TensorBoard(log_dir=tb_running_log_dir)\n",
    "    \n",
    "\n",
    "    @property\n",
    "    def _create_ckpt_callbacks(self):\n",
    "        return tf.keras.callbacks.ModelCheckpoint(\n",
    "            filepath=self.config.checkpoint_model_filepath,\n",
    "            save_best_only=True\n",
    "        )\n",
    "\n",
    "\n",
    "    def get_tb_ckpt_callbacks(self):\n",
    "        return [\n",
    "            self._create_tb_callbacks,\n",
    "            self._create_ckpt_callbacks\n",
    "        ]"
   ],
   "metadata": {
    "collapsed": false,
    "ExecuteTime": {
     "end_time": "2023-12-08T04:26:53.694470934Z",
     "start_time": "2023-12-08T04:26:53.652333417Z"
    }
   },
   "id": "4015722583930b4"
  },
  {
   "cell_type": "code",
   "execution_count": 13,
   "outputs": [
    {
     "name": "stdout",
     "output_type": "stream",
     "text": [
      "[2023-12-08 10:04:04,864: INFO: common: yaml file: config/config.yaml loaded successfully]\n",
      "[2023-12-08 10:04:04,867: INFO: common: yaml file: params.yaml loaded successfully]\n",
      "[2023-12-08 10:04:04,868: INFO: common: created directory at: artifacts]\n",
      "[2023-12-08 10:04:04,869: INFO: common: created directory at: artifacts/prepare_callbacks/checkpoint_dir]\n",
      "[2023-12-08 10:04:04,870: INFO: common: created directory at: artifacts/prepare_callbacks/tensorboard_log_dir]\n"
     ]
    },
    {
     "ename": "AttributeError",
     "evalue": "'PosixPath' object has no attribute 'endswith'",
     "output_type": "error",
     "traceback": [
      "\u001B[0;31m---------------------------------------------------------------------------\u001B[0m",
      "\u001B[0;31mAttributeError\u001B[0m                            Traceback (most recent call last)",
      "Cell \u001B[0;32mIn[13], line 8\u001B[0m\n\u001B[1;32m      5\u001B[0m     callback_list \u001B[38;5;241m=\u001B[39m prepare_callbacks\u001B[38;5;241m.\u001B[39mget_tb_ckpt_callbacks()\n\u001B[1;32m      7\u001B[0m \u001B[38;5;28;01mexcept\u001B[39;00m \u001B[38;5;167;01mException\u001B[39;00m \u001B[38;5;28;01mas\u001B[39;00m e:\n\u001B[0;32m----> 8\u001B[0m     \u001B[38;5;28;01mraise\u001B[39;00m e\n",
      "Cell \u001B[0;32mIn[13], line 5\u001B[0m\n\u001B[1;32m      3\u001B[0m     prepare_callbacks_config \u001B[38;5;241m=\u001B[39m config\u001B[38;5;241m.\u001B[39mget_prepare_callback_config()\n\u001B[1;32m      4\u001B[0m     prepare_callbacks \u001B[38;5;241m=\u001B[39m PrepareCallback(config\u001B[38;5;241m=\u001B[39mprepare_callbacks_config)\n\u001B[0;32m----> 5\u001B[0m     callback_list \u001B[38;5;241m=\u001B[39m \u001B[43mprepare_callbacks\u001B[49m\u001B[38;5;241;43m.\u001B[39;49m\u001B[43mget_tb_ckpt_callbacks\u001B[49m\u001B[43m(\u001B[49m\u001B[43m)\u001B[49m\n\u001B[1;32m      7\u001B[0m \u001B[38;5;28;01mexcept\u001B[39;00m \u001B[38;5;167;01mException\u001B[39;00m \u001B[38;5;28;01mas\u001B[39;00m e:\n\u001B[1;32m      8\u001B[0m     \u001B[38;5;28;01mraise\u001B[39;00m e\n",
      "Cell \u001B[0;32mIn[12], line 26\u001B[0m, in \u001B[0;36mPrepareCallback.get_tb_ckpt_callbacks\u001B[0;34m(self)\u001B[0m\n\u001B[1;32m     23\u001B[0m \u001B[38;5;28;01mdef\u001B[39;00m \u001B[38;5;21mget_tb_ckpt_callbacks\u001B[39m(\u001B[38;5;28mself\u001B[39m):\n\u001B[1;32m     24\u001B[0m     \u001B[38;5;28;01mreturn\u001B[39;00m [\n\u001B[1;32m     25\u001B[0m         \u001B[38;5;28mself\u001B[39m\u001B[38;5;241m.\u001B[39m_create_tb_callbacks,\n\u001B[0;32m---> 26\u001B[0m         \u001B[38;5;28;43mself\u001B[39;49m\u001B[38;5;241;43m.\u001B[39;49m\u001B[43m_create_ckpt_callbacks\u001B[49m\n\u001B[1;32m     27\u001B[0m     ]\n",
      "Cell \u001B[0;32mIn[12], line 17\u001B[0m, in \u001B[0;36mPrepareCallback._create_ckpt_callbacks\u001B[0;34m(self)\u001B[0m\n\u001B[1;32m     15\u001B[0m \u001B[38;5;129m@property\u001B[39m\n\u001B[1;32m     16\u001B[0m \u001B[38;5;28;01mdef\u001B[39;00m \u001B[38;5;21m_create_ckpt_callbacks\u001B[39m(\u001B[38;5;28mself\u001B[39m):\n\u001B[0;32m---> 17\u001B[0m     \u001B[38;5;28;01mreturn\u001B[39;00m \u001B[43mtf\u001B[49m\u001B[38;5;241;43m.\u001B[39;49m\u001B[43mkeras\u001B[49m\u001B[38;5;241;43m.\u001B[39;49m\u001B[43mcallbacks\u001B[49m\u001B[38;5;241;43m.\u001B[39;49m\u001B[43mModelCheckpoint\u001B[49m\u001B[43m(\u001B[49m\n\u001B[1;32m     18\u001B[0m \u001B[43m        \u001B[49m\u001B[43mfilepath\u001B[49m\u001B[38;5;241;43m=\u001B[39;49m\u001B[38;5;28;43mself\u001B[39;49m\u001B[38;5;241;43m.\u001B[39;49m\u001B[43mconfig\u001B[49m\u001B[38;5;241;43m.\u001B[39;49m\u001B[43mcheckpoint_model_filepath\u001B[49m\u001B[43m,\u001B[49m\n\u001B[1;32m     19\u001B[0m \u001B[43m        \u001B[49m\u001B[43msave_best_only\u001B[49m\u001B[38;5;241;43m=\u001B[39;49m\u001B[38;5;28;43;01mTrue\u001B[39;49;00m\n\u001B[1;32m     20\u001B[0m \u001B[43m    \u001B[49m\u001B[43m)\u001B[49m\n",
      "File \u001B[0;32m~/Documents/data_science_interview/Udemy/Chicken-Disease-Classification/venv/lib/python3.11/site-packages/keras/src/callbacks.py:1369\u001B[0m, in \u001B[0;36mModelCheckpoint.__init__\u001B[0;34m(self, filepath, monitor, verbose, save_best_only, save_weights_only, mode, save_freq, options, initial_value_threshold, **kwargs)\u001B[0m\n\u001B[1;32m   1363\u001B[0m         \u001B[38;5;28;01mraise\u001B[39;00m \u001B[38;5;167;01mTypeError\u001B[39;00m(\n\u001B[1;32m   1364\u001B[0m             \u001B[38;5;124m\"\u001B[39m\u001B[38;5;124mIf save_weights_only is True, then `options` must be \u001B[39m\u001B[38;5;124m\"\u001B[39m\n\u001B[1;32m   1365\u001B[0m             \u001B[38;5;124m\"\u001B[39m\u001B[38;5;124meither None or a tf.train.CheckpointOptions. \u001B[39m\u001B[38;5;124m\"\u001B[39m\n\u001B[1;32m   1366\u001B[0m             \u001B[38;5;124mf\u001B[39m\u001B[38;5;124m\"\u001B[39m\u001B[38;5;124mGot \u001B[39m\u001B[38;5;132;01m{\u001B[39;00moptions\u001B[38;5;132;01m}\u001B[39;00m\u001B[38;5;124m.\u001B[39m\u001B[38;5;124m\"\u001B[39m\n\u001B[1;32m   1367\u001B[0m         )\n\u001B[1;32m   1368\u001B[0m \u001B[38;5;28;01melse\u001B[39;00m:\n\u001B[0;32m-> 1369\u001B[0m     \u001B[38;5;28;01mif\u001B[39;00m filepath \u001B[38;5;129;01mand\u001B[39;00m \u001B[43mfilepath\u001B[49m\u001B[38;5;241;43m.\u001B[39;49m\u001B[43mendswith\u001B[49m(\u001B[38;5;124m\"\u001B[39m\u001B[38;5;124m.keras\u001B[39m\u001B[38;5;124m\"\u001B[39m) \u001B[38;5;129;01mand\u001B[39;00m options \u001B[38;5;129;01mis\u001B[39;00m \u001B[38;5;129;01mnot\u001B[39;00m \u001B[38;5;28;01mNone\u001B[39;00m:\n\u001B[1;32m   1370\u001B[0m         \u001B[38;5;28;01mraise\u001B[39;00m \u001B[38;5;167;01mValueError\u001B[39;00m(\n\u001B[1;32m   1371\u001B[0m             \u001B[38;5;124m\"\u001B[39m\u001B[38;5;124mThe native Keras format does not support \u001B[39m\u001B[38;5;124m\"\u001B[39m\n\u001B[1;32m   1372\u001B[0m             \u001B[38;5;124m\"\u001B[39m\u001B[38;5;124mthe `options` argument. Please remove \u001B[39m\u001B[38;5;124m\"\u001B[39m\n\u001B[0;32m   (...)\u001B[0m\n\u001B[1;32m   1375\u001B[0m             \u001B[38;5;124m\"\u001B[39m\u001B[38;5;124mthe model filepath.\u001B[39m\u001B[38;5;124m\"\u001B[39m\n\u001B[1;32m   1376\u001B[0m         )\n\u001B[1;32m   1377\u001B[0m     \u001B[38;5;28;01mif\u001B[39;00m options \u001B[38;5;129;01mis\u001B[39;00m \u001B[38;5;28;01mNone\u001B[39;00m \u001B[38;5;129;01mor\u001B[39;00m \u001B[38;5;28misinstance\u001B[39m(\n\u001B[1;32m   1378\u001B[0m         options, tf\u001B[38;5;241m.\u001B[39msaved_model\u001B[38;5;241m.\u001B[39mSaveOptions\n\u001B[1;32m   1379\u001B[0m     ):\n",
      "\u001B[0;31mAttributeError\u001B[0m: 'PosixPath' object has no attribute 'endswith'"
     ]
    }
   ],
   "source": [
    "try:\n",
    "    config = ConfigurationManager()\n",
    "    prepare_callbacks_config = config.get_prepare_callback_config()\n",
    "    prepare_callbacks = PrepareCallback(config=prepare_callbacks_config)\n",
    "    callback_list = prepare_callbacks.get_tb_ckpt_callbacks()\n",
    "    \n",
    "except Exception as e:\n",
    "    raise e"
   ],
   "metadata": {
    "collapsed": false,
    "ExecuteTime": {
     "end_time": "2023-12-08T04:34:05.611859410Z",
     "start_time": "2023-12-08T04:34:04.859572509Z"
    }
   },
   "id": "b25e011e1e769d4c"
  },
  {
   "cell_type": "code",
   "execution_count": null,
   "outputs": [],
   "source": [],
   "metadata": {
    "collapsed": false
   },
   "id": "e04e78a123b698c8"
  }
 ],
 "metadata": {
  "kernelspec": {
   "display_name": "Python 3",
   "language": "python",
   "name": "python3"
  },
  "language_info": {
   "codemirror_mode": {
    "name": "ipython",
    "version": 2
   },
   "file_extension": ".py",
   "mimetype": "text/x-python",
   "name": "python",
   "nbconvert_exporter": "python",
   "pygments_lexer": "ipython2",
   "version": "2.7.6"
  }
 },
 "nbformat": 4,
 "nbformat_minor": 5
}
